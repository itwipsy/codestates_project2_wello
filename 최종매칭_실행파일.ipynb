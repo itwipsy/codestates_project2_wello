{
  "nbformat": 4,
  "nbformat_minor": 0,
  "metadata": {
    "colab": {
      "name": "Untitled46.ipynb",
      "private_outputs": true,
      "provenance": []
    },
    "kernelspec": {
      "name": "python3",
      "display_name": "Python 3"
    },
    "language_info": {
      "name": "python"
    }
  },
  "cells": [
    {
      "cell_type": "code",
      "execution_count": null,
      "metadata": {
        "id": "-yQYQ_RB5lV8"
      },
      "outputs": [],
      "source": [
        "import pandas as pd\n",
        "import numpy as np\n",
        "import re\n",
        "user_tag=df=pd.read_csv('/content/drive/MyDrive/웰로매칭/df_user_code')\n",
        "policy_tag=pd.read_csv('/content/drive/MyDrive/웰로매칭/tagged_df3.csv')\n",
        "\n",
        "user_tag.drop(['Unnamed: 0'],axis=1,inplace=True)"
      ]
    },
    {
      "cell_type": "code",
      "source": [
        "user_tag[:628]"
      ],
      "metadata": {
        "id": "tBI5c8Ku57VB"
      },
      "execution_count": null,
      "outputs": []
    },
    {
      "cell_type": "code",
      "source": [
        "user_tag.head(100)"
      ],
      "metadata": {
        "id": "xLpMm5Ca6NIo"
      },
      "execution_count": null,
      "outputs": []
    },
    {
      "cell_type": "code",
      "source": [
        "policy_tag.tail()"
      ],
      "metadata": {
        "id": "tOUM5hi06OIo"
      },
      "execution_count": null,
      "outputs": []
    },
    {
      "cell_type": "code",
      "source": [
        "user_tag.groupby('job_code').size()"
      ],
      "metadata": {
        "id": "h9F-8npdMAdT"
      },
      "execution_count": null,
      "outputs": []
    },
    {
      "cell_type": "code",
      "source": [
        "len(user_tag)\n",
        "len(policy_tag)"
      ],
      "metadata": {
        "id": "5TZ1C8fXBlnl"
      },
      "execution_count": null,
      "outputs": []
    },
    {
      "cell_type": "code",
      "source": [
        "\n",
        "list=[]\n",
        "for i in range(0,len(user_tag)):\n",
        "    lst=[]\n",
        "    for j in range(0,1000):\n",
        "        if (policy_tag['태그-지역(시도)'][j]==user_tag['home1_area_code'][i]):\n",
        "            lst.append(policy_tag['서비스명'][i])\n",
        "    list.append(lst)"
      ],
      "metadata": {
        "id": "nMwqB48G8F9q"
      },
      "execution_count": null,
      "outputs": []
    },
    {
      "cell_type": "code",
      "source": [
        "\n",
        "list_1=[]\n",
        "for i in range(0,len(user_tag)):\n",
        "    lst=[]\n",
        "    for j in range(0,1000):\n",
        "        if (policy_tag['태그-직장'][j]==user_tag['job_code'][i]):\n",
        "            lst.append(policy_tag['서비스명'][i])\n",
        "    list_1.append(lst)"
      ],
      "metadata": {
        "id": "WQ2lr3ogCxzr"
      },
      "execution_count": null,
      "outputs": []
    },
    {
      "cell_type": "code",
      "source": [
        "\n",
        "# list_2=[]\n",
        "# for i in range(0,1000):\n",
        "#     lst=[]\n",
        "#     for j in range(0,len(policy_tag)):\n",
        "#         if (policy_tag['태그-자녀'][j]==user_tag['have_kids_code'][i]):\n",
        "#             lst.append(policy_tag['서비스명'][i])\n",
        "#     list_2.append(lst)"
      ],
      "metadata": {
        "id": "J-uCKRdr7lCJ"
      },
      "execution_count": null,
      "outputs": []
    },
    {
      "cell_type": "code",
      "source": [
        "a=pd.DataFrame(list)\n",
        "b=pd.DataFrame(list_1)\n",
        "# c=pd.DataFrame(list_2)"
      ],
      "metadata": {
        "id": "HcFNCHsx0pyV"
      },
      "execution_count": null,
      "outputs": []
    },
    {
      "cell_type": "code",
      "source": [
        "a.to_csv('/content/sample_data/df_area_code_service')\n",
        "b.to_csv('/content/sample_data/df_job_code_service')\n",
        "# c.to_csv('/content/sample_data/df_kids_code_service')"
      ],
      "metadata": {
        "id": "IbH9tDA10qTk"
      },
      "execution_count": null,
      "outputs": []
    },
    {
      "cell_type": "code",
      "source": [
        "user_service=df=pd.read_csv('/content/sample_data/df__user_code_service')"
      ],
      "metadata": {
        "id": "BL_F59_wMLfy"
      },
      "execution_count": null,
      "outputs": []
    },
    {
      "cell_type": "code",
      "source": [
        "user_service.drop(['Unnamed: 0'],axis=1,inplace=True)"
      ],
      "metadata": {
        "id": "SuVeMW51OIFC"
      },
      "execution_count": null,
      "outputs": []
    },
    {
      "cell_type": "code",
      "source": [
        "def result(number):\n",
        "    print('지역에 따른 정책 : ',a[0][:628][number])\n",
        "    print('직업에 따른 정책 : ',b[0][:628][number])\n",
        "    print('나이에 따른 정책 : ',user_service[:628][number:number+1])\n",
        "    "
      ],
      "metadata": {
        "id": "IBRnG26mTq05"
      },
      "execution_count": null,
      "outputs": []
    },
    {
      "cell_type": "code",
      "source": [
        "result(500)"
      ],
      "metadata": {
        "id": "tpfjV5Y0iMhn"
      },
      "execution_count": null,
      "outputs": []
    },
    {
      "cell_type": "code",
      "source": [
        "number=200\n",
        "user_service[:628][number:number+1]"
      ],
      "metadata": {
        "id": "Nq7esL6xlMAX"
      },
      "execution_count": null,
      "outputs": []
    },
    {
      "cell_type": "code",
      "source": [
        ""
      ],
      "metadata": {
        "id": "7SFBjTsHlQsn"
      },
      "execution_count": null,
      "outputs": []
    }
  ]
}